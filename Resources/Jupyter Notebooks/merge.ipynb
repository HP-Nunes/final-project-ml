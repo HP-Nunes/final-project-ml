{
 "cells": [
  {
   "cell_type": "code",
   "execution_count": 277,
   "metadata": {
    "collapsed": true
   },
   "outputs": [],
   "source": [
    "import numpy as np\n",
    "import pandas as pd\n",
    "import os"
   ]
  },
  {
   "cell_type": "code",
   "execution_count": 327,
   "metadata": {},
   "outputs": [
    {
     "data": {
      "text/plain": [
       "10104"
      ]
     },
     "execution_count": 327,
     "metadata": {},
     "output_type": "execute_result"
    }
   ],
   "source": [
    "#Set the paths\n",
    "registered_business_path = os.path.join('Cleaned Datasets', 'cleaned_registered_food_services.csv')\n",
    "health_scores_path = os.path.join('Cleaned Datasets', 'health_scores.csv')\n",
    "\n",
    "geocoded_registered_business_path = os.path.join('Cleaned Datasets', 'addresses-2018.csv')\n",
    "geocoded_health_scores_path = os.path.join('Cleaned Datasets', 'geocoded_health_scores_addresses-2018.csv')\n",
    "\n",
    "#Read in the csvs\n",
    "registered_business_df = pd.read_csv(registered_business_path)\n",
    "health_scores_df = pd.read_csv(health_scores_path)\n",
    "\n",
    "geocoded_rb_df = pd.read_csv(geocoded_registered_business_path)\n",
    "geocoded_hs_df = pd.read_csv(geocoded_health_scores_path)\n",
    "\n",
    "len(registered_business_df)"
   ]
  },
  {
   "cell_type": "code",
   "execution_count": 335,
   "metadata": {},
   "outputs": [
    {
     "data": {
      "text/plain": [
       "786"
      ]
     },
     "execution_count": 335,
     "metadata": {},
     "output_type": "execute_result"
    }
   ],
   "source": [
    "geocoded_registered_business_path = os.path.join('addresses-business-end-date-2018.csv')\n",
    "df = pd.read_csv(geocoded_registered_business_path)\n",
    "\n",
    "df = df.dropna(subset=['formatted_address'])\n",
    "df = df.drop_duplicates(subset=['google_place_id'], keep='first').reset_index(drop=True)\n",
    "len(df)"
   ]
  },
  {
   "cell_type": "code",
   "execution_count": 333,
   "metadata": {},
   "outputs": [
    {
     "data": {
      "text/plain": [
       "1554"
      ]
     },
     "execution_count": 333,
     "metadata": {},
     "output_type": "execute_result"
    }
   ],
   "source": [
    "registered_business_df = registered_business_df[registered_business_df['business_end_date'].notnull()]\n",
    "len(registered_business_df)\n",
    "\n",
    "registered_business_df.sort_values('business_start_date')\n",
    "list_a = registered_business_df['business_name'].unique()\n",
    "len(list_a)\n",
    "# df = pd.DataFrame(list_a)"
   ]
  },
  {
   "cell_type": "code",
   "execution_count": 313,
   "metadata": {},
   "outputs": [],
   "source": [
    "#Clean up the geocode files for health score\n",
    "geocoded_hs_df = geocoded_hs_df.drop_duplicates(subset=['google_place_id'], keep='first').reset_index(drop=True)\n",
    "geocoded_hs_df = geocoded_hs_df.dropna(subset=['formatted_address'])\n",
    "\n",
    "#Clean up the geocode files for registered businesses\n",
    "geocoded_rb_df = geocoded_rb_df.drop_duplicates(subset=['google_place_id'], keep='first').reset_index(drop=True)\n",
    "geocoded_rb_df = geocoded_rb_df.dropna(subset=['formatted_address'])\n",
    "\n",
    "\n",
    "# path = os.path.join('Cleaned Datasets', 'test.csv')\n",
    "# geocoded_hs_df.to_csv(path, index=False)"
   ]
  },
  {
   "cell_type": "code",
   "execution_count": 314,
   "metadata": {},
   "outputs": [
    {
     "data": {
      "text/plain": [
       "4885"
      ]
     },
     "execution_count": 314,
     "metadata": {},
     "output_type": "execute_result"
    }
   ],
   "source": [
    "len(geocoded_rb_df)"
   ]
  },
  {
   "cell_type": "code",
   "execution_count": 315,
   "metadata": {},
   "outputs": [
    {
     "data": {
      "text/plain": [
       "10104"
      ]
     },
     "execution_count": 315,
     "metadata": {},
     "output_type": "execute_result"
    }
   ],
   "source": [
    "len(registered_business_df)"
   ]
  },
  {
   "cell_type": "code",
   "execution_count": 325,
   "metadata": {},
   "outputs": [
    {
     "data": {
      "text/plain": [
       "1150"
      ]
     },
     "execution_count": 325,
     "metadata": {},
     "output_type": "execute_result"
    }
   ],
   "source": []
  },
  {
   "cell_type": "markdown",
   "metadata": {},
   "source": [
    "## Merge Registered Businesses Dataset with Geocodes"
   ]
  },
  {
   "cell_type": "code",
   "execution_count": 316,
   "metadata": {
    "collapsed": true
   },
   "outputs": [],
   "source": [
    "#Merge the registered business df with the geocodes to get unique location id\n",
    "merge_registered_business_df = registered_business_df.merge(geocoded_rb_df, left_on='street_address', right_on='input_string')\n",
    "# merge_registered_business_df.columns.values"
   ]
  },
  {
   "cell_type": "code",
   "execution_count": 317,
   "metadata": {},
   "outputs": [
    {
     "data": {
      "text/plain": [
       "3742"
      ]
     },
     "execution_count": 317,
     "metadata": {},
     "output_type": "execute_result"
    }
   ],
   "source": [
    "# path = os.path.join('Cleaned Datasets', 'matched.csv')\n",
    "# merge_registered_business_df.to_csv(path, index=False)\n",
    "\n",
    "len(merge_registered_business_df)\n",
    "# merge_registered_business_df.head()"
   ]
  },
  {
   "cell_type": "code",
   "execution_count": 303,
   "metadata": {},
   "outputs": [
    {
     "data": {
      "text/plain": [
       "array(['location_id', 'ownership_name', 'business_name', 'category',\n",
       "       'lic_code', 'street_address', 'State', 'City', 'zipcode',\n",
       "       'business_start_date', 'business_end_date', 'neighborhoods',\n",
       "       'business_location', 'supervisor_district', 'Lifespan', 'closed',\n",
       "       'age_if_opened', 'accuracy', 'formatted_address',\n",
       "       'google_place_id', 'input_string', 'latitude', 'longitude',\n",
       "       'number_of_results', 'postcode', 'status', 'type'], dtype=object)"
      ]
     },
     "execution_count": 303,
     "metadata": {},
     "output_type": "execute_result"
    }
   ],
   "source": [
    "merge_registered_business_df.columns.values"
   ]
  },
  {
   "cell_type": "code",
   "execution_count": 318,
   "metadata": {
    "collapsed": true
   },
   "outputs": [],
   "source": [
    "#Get columns we need\n",
    "merge_registered_business_df = merge_registered_business_df[['location_id', 'ownership_name', 'business_name', 'category',\n",
    "                            'lic_code', 'street_address', 'State', 'City', 'zipcode', \n",
    "                            'business_start_date', 'business_end_date', 'neighborhoods', 'business_location',\n",
    "                            'supervisor_district', 'Lifespan', 'formatted_address', 'google_place_id', 'latitude', 'longitude', 'closed', 'age_if_opened']]\n",
    "\n",
    "merge_registered_business_df.head(20)\n",
    "\n",
    "#Add a new column to filter out first word in restaurants' name\n",
    "merge_registered_business_df['formatted_name'] = merge_registered_business_df['business_name'].apply(lambda x: x.split(' ', 1)[0].lower())"
   ]
  },
  {
   "cell_type": "code",
   "execution_count": 319,
   "metadata": {},
   "outputs": [
    {
     "data": {
      "text/html": [
       "<div>\n",
       "<style scoped>\n",
       "    .dataframe tbody tr th:only-of-type {\n",
       "        vertical-align: middle;\n",
       "    }\n",
       "\n",
       "    .dataframe tbody tr th {\n",
       "        vertical-align: top;\n",
       "    }\n",
       "\n",
       "    .dataframe thead th {\n",
       "        text-align: right;\n",
       "    }\n",
       "</style>\n",
       "<table border=\"1\" class=\"dataframe\">\n",
       "  <thead>\n",
       "    <tr style=\"text-align: right;\">\n",
       "      <th></th>\n",
       "      <th>location_id</th>\n",
       "      <th>ownership_name</th>\n",
       "      <th>business_name</th>\n",
       "      <th>category</th>\n",
       "      <th>lic_code</th>\n",
       "      <th>street_address</th>\n",
       "      <th>State</th>\n",
       "      <th>City</th>\n",
       "      <th>zipcode</th>\n",
       "      <th>business_start_date</th>\n",
       "      <th>...</th>\n",
       "      <th>business_location</th>\n",
       "      <th>supervisor_district</th>\n",
       "      <th>Lifespan</th>\n",
       "      <th>formatted_address</th>\n",
       "      <th>google_place_id</th>\n",
       "      <th>latitude</th>\n",
       "      <th>longitude</th>\n",
       "      <th>closed</th>\n",
       "      <th>age_if_opened</th>\n",
       "      <th>formatted_name</th>\n",
       "    </tr>\n",
       "  </thead>\n",
       "  <tbody>\n",
       "    <tr>\n",
       "      <th>0</th>\n",
       "      <td>1173752-12-171</td>\n",
       "      <td>Yo-Kai Express Inc.</td>\n",
       "      <td>Yo-Kai Express Inc.</td>\n",
       "      <td>Food Services</td>\n",
       "      <td>NaN</td>\n",
       "      <td>135 4th St Ste 4000</td>\n",
       "      <td>CA</td>\n",
       "      <td>San Francisco</td>\n",
       "      <td>94103.0</td>\n",
       "      <td>12/28/2017</td>\n",
       "      <td>...</td>\n",
       "      <td>NaN</td>\n",
       "      <td>6.0</td>\n",
       "      <td>NaN</td>\n",
       "      <td>135 4th St #4000, San Francisco, CA 94103, USA</td>\n",
       "      <td>Ei40MDAwLCAxMzUgNHRoIFN0LCBTYW4gRnJhbmNpc2NvLC...</td>\n",
       "      <td>37.784332</td>\n",
       "      <td>-122.403366</td>\n",
       "      <td>no</td>\n",
       "      <td>215.0</td>\n",
       "      <td>yo-kai</td>\n",
       "    </tr>\n",
       "    <tr>\n",
       "      <th>1</th>\n",
       "      <td>1173848-12-171</td>\n",
       "      <td>Global Express Inc.</td>\n",
       "      <td>Kafal</td>\n",
       "      <td>Food Services</td>\n",
       "      <td>NaN</td>\n",
       "      <td>425 Elis St</td>\n",
       "      <td>CA</td>\n",
       "      <td>San Francisco</td>\n",
       "      <td>94102.0</td>\n",
       "      <td>12/28/2017</td>\n",
       "      <td>...</td>\n",
       "      <td>NaN</td>\n",
       "      <td>6.0</td>\n",
       "      <td>NaN</td>\n",
       "      <td>425 Ellis St, New Britain, CT 06051, USA</td>\n",
       "      <td>ChIJoxnKqqWz54kR0sUwCIP5nP0</td>\n",
       "      <td>41.658344</td>\n",
       "      <td>-72.765764</td>\n",
       "      <td>no</td>\n",
       "      <td>215.0</td>\n",
       "      <td>kafal</td>\n",
       "    </tr>\n",
       "    <tr>\n",
       "      <th>2</th>\n",
       "      <td>0308034-01-001</td>\n",
       "      <td>Grandeho's Inc</td>\n",
       "      <td>Sunflower Restaurant</td>\n",
       "      <td>Food Services</td>\n",
       "      <td>Restaurant Less Than 1,000 Sqft</td>\n",
       "      <td>3111 16th St</td>\n",
       "      <td>CA</td>\n",
       "      <td>San Francisco</td>\n",
       "      <td>94103.0</td>\n",
       "      <td>07/01/1997</td>\n",
       "      <td>...</td>\n",
       "      <td>3111 16TH ST\\nSan Francisco, CA 94103\\n(37.764...</td>\n",
       "      <td>8.0</td>\n",
       "      <td>NaN</td>\n",
       "      <td>3111 16th St, San Francisco, CA 94103, USA</td>\n",
       "      <td>ChIJtfptQyJ-j4ARFoWD1CsdFpE</td>\n",
       "      <td>37.764769</td>\n",
       "      <td>-122.422351</td>\n",
       "      <td>no</td>\n",
       "      <td>7700.0</td>\n",
       "      <td>sunflower</td>\n",
       "    </tr>\n",
       "    <tr>\n",
       "      <th>3</th>\n",
       "      <td>0343504-01-001</td>\n",
       "      <td>East-West Holdings Inc</td>\n",
       "      <td>Burma Super Star Restaurant</td>\n",
       "      <td>Food Services</td>\n",
       "      <td>Restaurant 1,000 - 2,000 Sqft</td>\n",
       "      <td>309 Clement St</td>\n",
       "      <td>CA</td>\n",
       "      <td>San Francisco</td>\n",
       "      <td>94118.0</td>\n",
       "      <td>03/01/2001</td>\n",
       "      <td>...</td>\n",
       "      <td>309 CLEMENT ST\\nSan Francisco, CA 94118\\n(37.7...</td>\n",
       "      <td>1.0</td>\n",
       "      <td>NaN</td>\n",
       "      <td>309 Clement St, San Francisco, CA 94118, USA</td>\n",
       "      <td>ChIJ7Tyh4TuHhYARdYpz0QD1nCk</td>\n",
       "      <td>37.782818</td>\n",
       "      <td>-122.462536</td>\n",
       "      <td>no</td>\n",
       "      <td>6361.0</td>\n",
       "      <td>burma</td>\n",
       "    </tr>\n",
       "    <tr>\n",
       "      <th>4</th>\n",
       "      <td>1173890-12-171</td>\n",
       "      <td>Ijsy World Kitchen Inc</td>\n",
       "      <td>Ike's Kitchen</td>\n",
       "      <td>Food Services</td>\n",
       "      <td>Restaurant Greater Than 2,000 Sqft</td>\n",
       "      <td>800 Van Ness Ave Bldg</td>\n",
       "      <td>CA</td>\n",
       "      <td>San Francisco</td>\n",
       "      <td>94109.0</td>\n",
       "      <td>12/21/2017</td>\n",
       "      <td>...</td>\n",
       "      <td>NaN</td>\n",
       "      <td>6.0</td>\n",
       "      <td>NaN</td>\n",
       "      <td>800 Van Ness Ave, San Francisco, CA 94109, USA</td>\n",
       "      <td>ChIJrVJzEJeAhYAR-n1omLJc5OA</td>\n",
       "      <td>37.783075</td>\n",
       "      <td>-122.420616</td>\n",
       "      <td>no</td>\n",
       "      <td>222.0</td>\n",
       "      <td>ike's</td>\n",
       "    </tr>\n",
       "  </tbody>\n",
       "</table>\n",
       "<p>5 rows × 22 columns</p>\n",
       "</div>"
      ],
      "text/plain": [
       "      location_id          ownership_name                business_name  \\\n",
       "0  1173752-12-171     Yo-Kai Express Inc.          Yo-Kai Express Inc.   \n",
       "1  1173848-12-171     Global Express Inc.                        Kafal   \n",
       "2  0308034-01-001          Grandeho's Inc         Sunflower Restaurant   \n",
       "3  0343504-01-001  East-West Holdings Inc  Burma Super Star Restaurant   \n",
       "4  1173890-12-171  Ijsy World Kitchen Inc                Ike's Kitchen   \n",
       "\n",
       "        category                            lic_code         street_address  \\\n",
       "0  Food Services                                 NaN    135 4th St Ste 4000   \n",
       "1  Food Services                                 NaN            425 Elis St   \n",
       "2  Food Services     Restaurant Less Than 1,000 Sqft           3111 16th St   \n",
       "3  Food Services       Restaurant 1,000 - 2,000 Sqft         309 Clement St   \n",
       "4  Food Services  Restaurant Greater Than 2,000 Sqft  800 Van Ness Ave Bldg   \n",
       "\n",
       "  State           City  zipcode business_start_date      ...        \\\n",
       "0    CA  San Francisco  94103.0          12/28/2017      ...         \n",
       "1    CA  San Francisco  94102.0          12/28/2017      ...         \n",
       "2    CA  San Francisco  94103.0          07/01/1997      ...         \n",
       "3    CA  San Francisco  94118.0          03/01/2001      ...         \n",
       "4    CA  San Francisco  94109.0          12/21/2017      ...         \n",
       "\n",
       "                                   business_location supervisor_district  \\\n",
       "0                                                NaN                 6.0   \n",
       "1                                                NaN                 6.0   \n",
       "2  3111 16TH ST\\nSan Francisco, CA 94103\\n(37.764...                 8.0   \n",
       "3  309 CLEMENT ST\\nSan Francisco, CA 94118\\n(37.7...                 1.0   \n",
       "4                                                NaN                 6.0   \n",
       "\n",
       "  Lifespan                               formatted_address  \\\n",
       "0      NaN  135 4th St #4000, San Francisco, CA 94103, USA   \n",
       "1      NaN        425 Ellis St, New Britain, CT 06051, USA   \n",
       "2      NaN      3111 16th St, San Francisco, CA 94103, USA   \n",
       "3      NaN    309 Clement St, San Francisco, CA 94118, USA   \n",
       "4      NaN  800 Van Ness Ave, San Francisco, CA 94109, USA   \n",
       "\n",
       "                                     google_place_id   latitude   longitude  \\\n",
       "0  Ei40MDAwLCAxMzUgNHRoIFN0LCBTYW4gRnJhbmNpc2NvLC...  37.784332 -122.403366   \n",
       "1                        ChIJoxnKqqWz54kR0sUwCIP5nP0  41.658344  -72.765764   \n",
       "2                        ChIJtfptQyJ-j4ARFoWD1CsdFpE  37.764769 -122.422351   \n",
       "3                        ChIJ7Tyh4TuHhYARdYpz0QD1nCk  37.782818 -122.462536   \n",
       "4                        ChIJrVJzEJeAhYAR-n1omLJc5OA  37.783075 -122.420616   \n",
       "\n",
       "   closed  age_if_opened formatted_name  \n",
       "0      no          215.0         yo-kai  \n",
       "1      no          215.0          kafal  \n",
       "2      no         7700.0      sunflower  \n",
       "3      no         6361.0          burma  \n",
       "4      no          222.0          ike's  \n",
       "\n",
       "[5 rows x 22 columns]"
      ]
     },
     "execution_count": 319,
     "metadata": {},
     "output_type": "execute_result"
    }
   ],
   "source": [
    "merge_registered_business_df.head()"
   ]
  },
  {
   "cell_type": "code",
   "execution_count": 286,
   "metadata": {},
   "outputs": [],
   "source": [
    "path = os.path.join('Cleaned Datasets', 'matched.csv')\n",
    "merge_registered_business_df.to_csv(path, index=False)"
   ]
  },
  {
   "cell_type": "markdown",
   "metadata": {},
   "source": [
    "## Merge HealthScores Dataset with Geocodes"
   ]
  },
  {
   "cell_type": "code",
   "execution_count": 320,
   "metadata": {},
   "outputs": [
    {
     "data": {
      "text/plain": [
       "3914"
      ]
     },
     "execution_count": 320,
     "metadata": {},
     "output_type": "execute_result"
    }
   ],
   "source": [
    "#Merge the healthscores  df with the geocodes to get unique location id\n",
    "merge_health_scores_df = health_scores_df.merge(gecoded_hs_df, left_on='address', right_on='input_string')\n",
    "\n",
    "#Drop the rows where formatted address is null\n",
    "merge_health_scores_df = merge_health_scores_df.dropna(subset=['formatted_address'])\n",
    "len(merge_health_scores_df)\n"
   ]
  },
  {
   "cell_type": "code",
   "execution_count": 321,
   "metadata": {},
   "outputs": [],
   "source": [
    "#get the columns we need\n",
    "merge_health_scores_df = merge_health_scores_df[['business_id', 'name', 'score', 'year', 'formatted_address']]\n",
    "\n",
    "#drop the restaurants who are in the same location\n",
    "#merge_health_scores_df = merge_health_scores_df.drop_duplicates(subset=['formatted_address', 'year'], keep=False)\n",
    "\n",
    "#drop restaurants who don't have a health score\n",
    "merge_health_scores_df = merge_health_scores_df.dropna(subset=['score'])\n",
    "\n",
    "#Add a new column to filter out first word in restaurants' name\n",
    "merge_health_scores_df['formatted_name'] = merge_health_scores_df['name'].apply(lambda x: x.split(' ', 1)[0].lower())\n",
    "\n",
    "\n",
    "path = os.path.join('Cleaned Datasets', 'health_matched.csv')\n",
    "merge_health_scores_df.to_csv(path, index=False)"
   ]
  },
  {
   "cell_type": "markdown",
   "metadata": {},
   "source": [
    "## Merge registered business and health scores"
   ]
  },
  {
   "cell_type": "code",
   "execution_count": 323,
   "metadata": {
    "scrolled": true
   },
   "outputs": [
    {
     "data": {
      "text/plain": [
       "1242"
      ]
     },
     "execution_count": 323,
     "metadata": {},
     "output_type": "execute_result"
    }
   ],
   "source": [
    "#Merge the two files to see if there are any matches\n",
    "merged_df = merge_registered_business_df.merge(merge_health_scores_df, left_on=['formatted_address', 'formatted_name'], right_on=['formatted_address', 'formatted_name'] )\n",
    "len(merged_df)\n",
    "# merged_df.head(20)"
   ]
  },
  {
   "cell_type": "code",
   "execution_count": null,
   "metadata": {
    "scrolled": false
   },
   "outputs": [],
   "source": []
  },
  {
   "cell_type": "code",
   "execution_count": 324,
   "metadata": {},
   "outputs": [],
   "source": [
    "path = os.path.join('Cleaned Datasets', 'final-merged.csv')\n",
    "merged_df.to_csv(path, index=False)"
   ]
  },
  {
   "cell_type": "code",
   "execution_count": null,
   "metadata": {
    "collapsed": true
   },
   "outputs": [],
   "source": []
  },
  {
   "cell_type": "code",
   "execution_count": null,
   "metadata": {
    "collapsed": true
   },
   "outputs": [],
   "source": []
  }
 ],
 "metadata": {
  "kernelspec": {
   "display_name": "Python [conda env:PythonData]",
   "language": "python",
   "name": "conda-env-PythonData-py"
  },
  "language_info": {
   "codemirror_mode": {
    "name": "ipython",
    "version": 3
   },
   "file_extension": ".py",
   "mimetype": "text/x-python",
   "name": "python",
   "nbconvert_exporter": "python",
   "pygments_lexer": "ipython3",
   "version": "3.6.4"
  }
 },
 "nbformat": 4,
 "nbformat_minor": 2
}
