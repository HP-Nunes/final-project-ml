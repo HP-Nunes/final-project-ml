{
 "cells": [
  {
   "cell_type": "code",
   "execution_count": 284,
   "metadata": {
    "collapsed": true
   },
   "outputs": [],
   "source": [
    "import numpy as np\n",
    "import pandas as pd\n",
    "import os"
   ]
  },
  {
   "cell_type": "code",
   "execution_count": 285,
   "metadata": {
    "collapsed": true
   },
   "outputs": [],
   "source": [
    "#Set the paths\n",
    "registered_business_path = os.path.join('Cleaned Datasets', 'cleaned_registered_businesses.csv')\n",
    "# health_scores_path = os.path.join('Cleaned Datasets', 'health_scores.csv')\n",
    "\n",
    "#merge the aggregated health scores with MA\n",
    "health_scores_path = os.path.join('Cleaned Datasets', 'aggregated_health_scores_ma.csv')\n",
    "\n",
    "\n",
    "registered_business_df = pd.read_csv(registered_business_path)\n",
    "health_scores_df = pd.read_csv(health_scores_path)\n"
   ]
  },
  {
   "cell_type": "code",
   "execution_count": 286,
   "metadata": {},
   "outputs": [
    {
     "data": {
      "text/plain": [
       "223102"
      ]
     },
     "execution_count": 286,
     "metadata": {},
     "output_type": "execute_result"
    }
   ],
   "source": [
    "registered_business_df.head(10)\n",
    "len(registered_business_df)"
   ]
  },
  {
   "cell_type": "code",
   "execution_count": 287,
   "metadata": {},
   "outputs": [
    {
     "data": {
      "text/plain": [
       "223098"
      ]
     },
     "execution_count": 287,
     "metadata": {},
     "output_type": "execute_result"
    }
   ],
   "source": [
    "#lower the name of the business and street address\n",
    "registered_business_df['business_name'] = registered_business_df['business_name'].str.lower()\n",
    "registered_business_df['street_address'] = registered_business_df['street_address'].str.lower()\n",
    "\n",
    "#Drop any business_name or street_address that has null values\n",
    "registered_business_df['street_address'].replace('', np.nan, inplace=True)\n",
    "registered_business_df = registered_business_df.dropna(subset=['street_address'])\n",
    "\n",
    "#Convert street address column to string \n",
    "registered_business_df['street_address'] = registered_business_df['street_address'].astype('str')\n",
    "\n",
    "#convert zipcode address column to int\n",
    "#registered_business_df['zipcode'] = registered_business_df['zipcode'].astype('int')\n",
    "\n",
    "\n",
    "registered_business_df.head(1)\n",
    "len(registered_business_df)"
   ]
  },
  {
   "cell_type": "code",
   "execution_count": 288,
   "metadata": {},
   "outputs": [
    {
     "data": {
      "text/html": [
       "<div>\n",
       "<style scoped>\n",
       "    .dataframe tbody tr th:only-of-type {\n",
       "        vertical-align: middle;\n",
       "    }\n",
       "\n",
       "    .dataframe tbody tr th {\n",
       "        vertical-align: top;\n",
       "    }\n",
       "\n",
       "    .dataframe thead th {\n",
       "        text-align: right;\n",
       "    }\n",
       "</style>\n",
       "<table border=\"1\" class=\"dataframe\">\n",
       "  <thead>\n",
       "    <tr style=\"text-align: right;\">\n",
       "      <th></th>\n",
       "      <th>business_name</th>\n",
       "      <th>category</th>\n",
       "      <th>lic_code</th>\n",
       "      <th>street_address</th>\n",
       "      <th>State</th>\n",
       "      <th>City</th>\n",
       "      <th>zipcode</th>\n",
       "      <th>business_start_date</th>\n",
       "      <th>business_end_date</th>\n",
       "      <th>neighborhoods</th>\n",
       "      <th>business_location</th>\n",
       "      <th>supervisor_district</th>\n",
       "      <th>Lifespan</th>\n",
       "      <th>closed</th>\n",
       "      <th>age_if_opened</th>\n",
       "    </tr>\n",
       "  </thead>\n",
       "  <tbody>\n",
       "    <tr>\n",
       "      <th>0</th>\n",
       "      <td>blossoming lotus acupuncture</td>\n",
       "      <td>Private Education and Health Services</td>\n",
       "      <td>NaN</td>\n",
       "      <td>2670 leavenworth st a</td>\n",
       "      <td>CA</td>\n",
       "      <td>San Francisco</td>\n",
       "      <td>94109.0</td>\n",
       "      <td>01/28/2010</td>\n",
       "      <td>NaN</td>\n",
       "      <td>North Beach</td>\n",
       "      <td>2670 LEAVENWORTH ST\\nA San Francisco, CA 94109\\n</td>\n",
       "      <td>2.0</td>\n",
       "      <td>NaN</td>\n",
       "      <td>no</td>\n",
       "      <td>3107.0</td>\n",
       "    </tr>\n",
       "  </tbody>\n",
       "</table>\n",
       "</div>"
      ],
      "text/plain": [
       "                  business_name                               category  \\\n",
       "0  blossoming lotus acupuncture  Private Education and Health Services   \n",
       "\n",
       "  lic_code         street_address State           City  zipcode  \\\n",
       "0      NaN  2670 leavenworth st a    CA  San Francisco  94109.0   \n",
       "\n",
       "  business_start_date business_end_date neighborhoods  \\\n",
       "0          01/28/2010               NaN   North Beach   \n",
       "\n",
       "                                  business_location  supervisor_district  \\\n",
       "0  2670 LEAVENWORTH ST\\nA San Francisco, CA 94109\\n                  2.0   \n",
       "\n",
       "   Lifespan closed  age_if_opened  \n",
       "0       NaN     no         3107.0  "
      ]
     },
     "execution_count": 288,
     "metadata": {},
     "output_type": "execute_result"
    }
   ],
   "source": [
    "#remove the whitespaces at the end of business and street address\n",
    "registered_business_df['business_name'] = registered_business_df['business_name'].str.strip()\n",
    "registered_business_df['street_address'] = registered_business_df['street_address'].str.strip()\n",
    "\n",
    "registered_business_df.head(1)"
   ]
  },
  {
   "cell_type": "code",
   "execution_count": 289,
   "metadata": {},
   "outputs": [
    {
     "data": {
      "text/html": [
       "<div>\n",
       "<style scoped>\n",
       "    .dataframe tbody tr th:only-of-type {\n",
       "        vertical-align: middle;\n",
       "    }\n",
       "\n",
       "    .dataframe tbody tr th {\n",
       "        vertical-align: top;\n",
       "    }\n",
       "\n",
       "    .dataframe thead th {\n",
       "        text-align: right;\n",
       "    }\n",
       "</style>\n",
       "<table border=\"1\" class=\"dataframe\">\n",
       "  <thead>\n",
       "    <tr style=\"text-align: right;\">\n",
       "      <th></th>\n",
       "      <th>business_name</th>\n",
       "      <th>category</th>\n",
       "      <th>lic_code</th>\n",
       "      <th>street_address</th>\n",
       "      <th>State</th>\n",
       "      <th>City</th>\n",
       "      <th>zipcode</th>\n",
       "      <th>business_start_date</th>\n",
       "      <th>business_end_date</th>\n",
       "      <th>neighborhoods</th>\n",
       "      <th>business_location</th>\n",
       "      <th>supervisor_district</th>\n",
       "      <th>Lifespan</th>\n",
       "      <th>closed</th>\n",
       "      <th>age_if_opened</th>\n",
       "    </tr>\n",
       "  </thead>\n",
       "  <tbody>\n",
       "    <tr>\n",
       "      <th>0</th>\n",
       "      <td>blossoming lotus acupuncture</td>\n",
       "      <td>Private Education and Health Services</td>\n",
       "      <td>NaN</td>\n",
       "      <td>2670 leavenworth st a</td>\n",
       "      <td>CA</td>\n",
       "      <td>San Francisco</td>\n",
       "      <td>94109.0</td>\n",
       "      <td>01/28/2010</td>\n",
       "      <td>NaN</td>\n",
       "      <td>North Beach</td>\n",
       "      <td>2670 LEAVENWORTH ST\\nA San Francisco, CA 94109\\n</td>\n",
       "      <td>2.0</td>\n",
       "      <td>NaN</td>\n",
       "      <td>no</td>\n",
       "      <td>3107.0</td>\n",
       "    </tr>\n",
       "  </tbody>\n",
       "</table>\n",
       "</div>"
      ],
      "text/plain": [
       "                  business_name                               category  \\\n",
       "0  blossoming lotus acupuncture  Private Education and Health Services   \n",
       "\n",
       "  lic_code         street_address State           City  zipcode  \\\n",
       "0      NaN  2670 leavenworth st a    CA  San Francisco  94109.0   \n",
       "\n",
       "  business_start_date business_end_date neighborhoods  \\\n",
       "0          01/28/2010               NaN   North Beach   \n",
       "\n",
       "                                  business_location  supervisor_district  \\\n",
       "0  2670 LEAVENWORTH ST\\nA San Francisco, CA 94109\\n                  2.0   \n",
       "\n",
       "   Lifespan closed  age_if_opened  \n",
       "0       NaN     no         3107.0  "
      ]
     },
     "execution_count": 289,
     "metadata": {},
     "output_type": "execute_result"
    }
   ],
   "source": [
    "registered_business_df.head(1)"
   ]
  },
  {
   "cell_type": "code",
   "execution_count": null,
   "metadata": {},
   "outputs": [],
   "source": [
    "# replace ', \", -, etc\n",
    "registered_business_df['business_name'] = registered_business_df['business_name'].str.replace(r\"[\\\"\\',-.@!$%^&*]\", '')\n",
    "\n",
    "#get the first 2 words from street address\n",
    "registered_business_df['formatted_address'] = registered_business_df['street_address'].str.split().str[0] + \" \" + registered_business_df['street_address'].str.split().str[1]\n",
    "registered_business_df['formatted_name'] = registered_business_df['business_name'].str.split().str[0]\n",
    "\n",
    "#drop the null formatted addresses \n",
    "registered_business_df = registered_business_df.dropna(subset=['formatted_address'])\n",
    "\n",
    "#create a unique id based off the formatted address and name\n",
    "registered_business_df['uniqueid'] = registered_business_df['formatted_name'] + registered_business_df['formatted_address']\n",
    "\n",
    "#convert zipcode to integer \n",
    "#registered_business_df['zipcode'] = registered_business_df['zipcode'].astype('int')\n",
    "\n",
    "registered_business_df.head(1)"
   ]
  },
  {
   "cell_type": "code",
   "execution_count": null,
   "metadata": {},
   "outputs": [],
   "source": [
    "#add a new column with concatted address\n",
    "registered_business_df['full_address'] = registered_business_df['street_address'] + ', ' + registered_business_df['City'] + ', ' + registered_business_df['State'] + ', ' + registered_business_df['zipcode'].astype('str')\n",
    "registered_business_df.head(2)"
   ]
  },
  {
   "cell_type": "markdown",
   "metadata": {},
   "source": [
    "# Clean up the health scores dataset"
   ]
  },
  {
   "cell_type": "code",
   "execution_count": null,
   "metadata": {},
   "outputs": [],
   "source": [
    "health_scores_df.head(10)"
   ]
  },
  {
   "cell_type": "code",
   "execution_count": null,
   "metadata": {},
   "outputs": [],
   "source": [
    "#lower the name of the business and street address\n",
    "health_scores_df['name'] = health_scores_df['name'].str.lower()\n",
    "health_scores_df['address'] = health_scores_df['address'].str.lower()\n",
    "\n",
    "#Drop any street_address that has null values\n",
    "health_scores_df['address'].replace('', np.nan, inplace=True)\n",
    "health_scores_df = health_scores_df.dropna(subset=['address'])\n",
    "\n",
    "#Convert street address column to string \n",
    "health_scores_df['address'] = health_scores_df['address'].astype(str)\n",
    "\n",
    "registered_business_df.head(1)\n",
    "len(registered_business_df)"
   ]
  },
  {
   "cell_type": "code",
   "execution_count": null,
   "metadata": {},
   "outputs": [],
   "source": [
    "#remove the whitespaces at the end of business and street address\n",
    "health_scores_df['name'] = health_scores_df['name'].str.strip()\n",
    "health_scores_df['address'] = health_scores_df['address'].str.strip()\n",
    "\n",
    "health_scores_df.head(1)"
   ]
  },
  {
   "cell_type": "code",
   "execution_count": null,
   "metadata": {},
   "outputs": [],
   "source": [
    "# replace ', \", -, etc\n",
    "health_scores_df['name'] = health_scores_df['name'].str.replace(r\"[\\\"\\',-.@!$%^&*]\", '')\n",
    "\n",
    "#get the first 2 words from street address\n",
    "health_scores_df['formatted_address'] = health_scores_df['address'].str.split().str[0] + \" \" + health_scores_df['address'].str.split().str[1]\n",
    "health_scores_df['formatted_name'] = health_scores_df['name'].str.split().str[0]\n",
    "\n",
    "#drop the null formatted addresses \n",
    "health_scores_df = health_scores_df.dropna(subset=['formatted_address'])\n",
    "\n",
    "#create a unique id based off the formatted address and name\n",
    "health_scores_df['uniqueid'] = health_scores_df['formatted_name'] + health_scores_df['formatted_address']"
   ]
  },
  {
   "cell_type": "code",
   "execution_count": null,
   "metadata": {},
   "outputs": [],
   "source": [
    "#get the columns we need\n",
    "# health_scores_df = health_scores_df[['business_id', 'name', 'score', 'year', 'formatted_address', 'formatted_name', 'latitude', 'longitude', 'uniqueid']]\n",
    "\n",
    "#moving average\n",
    "health_scores_df = health_scores_df[['business_id', 'name', 'MA', 'year', 'formatted_address', 'formatted_name', 'latitude', 'longitude', 'uniqueid']]\n",
    "\n",
    "len(health_scores_df)\n",
    "\n",
    "# health_scores_df.head(1000)"
   ]
  },
  {
   "cell_type": "code",
   "execution_count": null,
   "metadata": {},
   "outputs": [],
   "source": [
    "#Merge the registered business df with the geocodes to get unique location id\n",
    "merged = registered_business_df.merge(health_scores_df, on='uniqueid')\n",
    "\n",
    "merged = merged[merged['category'] == 'Food Services']\n",
    "len(merged)"
   ]
  },
  {
   "cell_type": "code",
   "execution_count": null,
   "metadata": {},
   "outputs": [],
   "source": [
    "merged.head(100)"
   ]
  },
  {
   "cell_type": "code",
   "execution_count": null,
   "metadata": {
    "collapsed": true
   },
   "outputs": [],
   "source": [
    "path = os.path.join('Cleaned Datasets', 'final-merged.csv')\n",
    "merged.to_csv(path, index=False)"
   ]
  },
  {
   "cell_type": "code",
   "execution_count": null,
   "metadata": {
    "collapsed": true
   },
   "outputs": [],
   "source": []
  },
  {
   "cell_type": "code",
   "execution_count": null,
   "metadata": {
    "collapsed": true
   },
   "outputs": [],
   "source": []
  },
  {
   "cell_type": "code",
   "execution_count": null,
   "metadata": {
    "collapsed": true
   },
   "outputs": [],
   "source": []
  },
  {
   "cell_type": "code",
   "execution_count": null,
   "metadata": {
    "collapsed": true
   },
   "outputs": [],
   "source": []
  },
  {
   "cell_type": "code",
   "execution_count": null,
   "metadata": {
    "collapsed": true
   },
   "outputs": [],
   "source": []
  },
  {
   "cell_type": "code",
   "execution_count": null,
   "metadata": {
    "collapsed": true
   },
   "outputs": [],
   "source": []
  },
  {
   "cell_type": "code",
   "execution_count": null,
   "metadata": {
    "collapsed": true
   },
   "outputs": [],
   "source": []
  }
 ],
 "metadata": {
  "kernelspec": {
   "display_name": "Python [conda env:PythonData]",
   "language": "python",
   "name": "conda-env-PythonData-py"
  },
  "language_info": {
   "codemirror_mode": {
    "name": "ipython",
    "version": 3
   },
   "file_extension": ".py",
   "mimetype": "text/x-python",
   "name": "python",
   "nbconvert_exporter": "python",
   "pygments_lexer": "ipython3",
   "version": "3.6.4"
  }
 },
 "nbformat": 4,
 "nbformat_minor": 2
}
