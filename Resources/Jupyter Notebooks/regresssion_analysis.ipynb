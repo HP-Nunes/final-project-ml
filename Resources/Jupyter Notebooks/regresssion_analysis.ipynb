{
 "cells": [
  {
   "cell_type": "code",
   "execution_count": 141,
   "metadata": {
    "collapsed": true
   },
   "outputs": [],
   "source": [
    "import numpy as np\n",
    "import pandas as pd\n",
    "import os"
   ]
  },
  {
   "cell_type": "code",
   "execution_count": 142,
   "metadata": {},
   "outputs": [],
   "source": [
    "#Set the paths\n",
    "path = os.path.join('..', 'Hadrien_DataCleanup', 'cleanDatasets', 'master_dataset.csv')\n",
    "\n",
    "#read in csv\n",
    "df = pd.read_csv(path)"
   ]
  },
  {
   "cell_type": "code",
   "execution_count": 143,
   "metadata": {},
   "outputs": [
    {
     "name": "stdout",
     "output_type": "stream",
     "text": [
      "(30, 3)\n",
      "R2 Score: 0.9999838079561165\n"
     ]
    }
   ],
   "source": [
    "from sklearn.datasets import make_regression\n",
    "\n",
    "n_features = 3\n",
    "X, y = make_regression(n_samples=30, n_features=n_features, \n",
    "                       n_informative=n_features, random_state=42, \n",
    "                       noise=0.5, bias=100.0)\n",
    "print(X.shape)\n",
    "\n",
    "\n",
    "from sklearn.linear_model import LinearRegression\n",
    "model = LinearRegression()\n",
    "\n",
    "# Fitting our model with all of our features in X\n",
    "model.fit(X, y)\n",
    "\n",
    "score = model.score(X, y)\n",
    "print(f\"R2 Score: {score}\")"
   ]
  },
  {
   "cell_type": "code",
   "execution_count": 144,
   "metadata": {},
   "outputs": [
    {
     "data": {
      "text/plain": [
       "array(['business_name', 'category', 'lic_code', 'street_address',\n",
       "       'business_start_date', 'business_end_date', 'Lifespan', 'isClosed',\n",
       "       'age_if_opened', 'full_address', 'business_id', 'name', 'district',\n",
       "       'MA', 'year', 'latitude', 'longitude', 'tract', 'GEOID10', 'link',\n",
       "       'HC01_VC05', 'HC01_VC113', 'HC01_VC115', 'HC01_VC117',\n",
       "       'HC01_VC121', 'HC01_VC28', 'HC01_VC36', 'HC01_VC41', 'HC01_VC42',\n",
       "       'HC01_VC43', 'HC01_VC44', 'HC01_VC50', 'HC01_VC51', 'HC01_VC52',\n",
       "       'HC01_VC53', 'HC01_VC54', 'HC01_VC55', 'HC01_VC56', 'HC01_VC57',\n",
       "       'HC01_VC58', 'HC01_VC59', 'HC01_VC60', 'HC01_VC61', 'HC01_VC62',\n",
       "       'HC01_VC67', 'HC01_VC68', 'HC01_VC69', 'HC01_VC85', 'HC01_VC86',\n",
       "       'HC01_VC89', 'HC01_VC99', 'HC03_VC05', 'HC03_VC13', 'HC03_VC156',\n",
       "       'HC03_VC28', 'HC03_VC41', 'HC03_VC42', 'HC03_VC43', 'HC03_VC44',\n",
       "       'HC03_VC45', 'HC03_VC50', 'HC03_VC51', 'HC03_VC52', 'HC03_VC53',\n",
       "       'HC03_VC54', 'HC03_VC55', 'HC03_VC56', 'HC03_VC57', 'HC03_VC58',\n",
       "       'HC03_VC59', 'HC03_VC60', 'HC03_VC61', 'HC03_VC62', 'HC03_VC67',\n",
       "       'HC03_VC68', 'HC03_VC69', 'HC03_VC75', 'HC03_VC76', 'HC03_VC77',\n",
       "       'HC03_VC78', 'HC03_VC79', 'HC03_VC80', 'HC03_VC81', 'HC03_VC82',\n",
       "       'HC03_VC83', 'HC03_VC84', 'HD01_S001', 'HD01_S020', 'HD01_S026',\n",
       "       'HD01_S045', 'HD01_S051', 'HD01_S070', 'HD01_S151', 'HD01_S169',\n",
       "       'HD01_S170', 'HD01_S171', 'HD01_S180', 'HD01_S181', 'HD01_S184',\n",
       "       'HD02_S026', 'HD02_S051', 'HD02_S151', 'HD02_S170', 'HD02_S171',\n",
       "       'HD02_S180', 'HD02_S181', 'HD02_S184'], dtype=object)"
      ]
     },
     "execution_count": 144,
     "metadata": {},
     "output_type": "execute_result"
    }
   ],
   "source": [
    "df.columns.values"
   ]
  },
  {
   "cell_type": "code",
   "execution_count": 145,
   "metadata": {},
   "outputs": [
    {
     "data": {
      "text/html": [
       "<div>\n",
       "<style scoped>\n",
       "    .dataframe tbody tr th:only-of-type {\n",
       "        vertical-align: middle;\n",
       "    }\n",
       "\n",
       "    .dataframe tbody tr th {\n",
       "        vertical-align: top;\n",
       "    }\n",
       "\n",
       "    .dataframe thead th {\n",
       "        text-align: right;\n",
       "    }\n",
       "</style>\n",
       "<table border=\"1\" class=\"dataframe\">\n",
       "  <thead>\n",
       "    <tr style=\"text-align: right;\">\n",
       "      <th></th>\n",
       "      <th>Lifespan</th>\n",
       "      <th>age_if_opened</th>\n",
       "      <th>isClosed</th>\n",
       "      <th>MA</th>\n",
       "      <th>HC01_VC05</th>\n",
       "      <th>HC01_VC113</th>\n",
       "    </tr>\n",
       "  </thead>\n",
       "  <tbody>\n",
       "    <tr>\n",
       "      <th>0</th>\n",
       "      <td>NaN</td>\n",
       "      <td>216.0</td>\n",
       "      <td>no</td>\n",
       "      <td>100.0</td>\n",
       "      <td>6926.0</td>\n",
       "      <td>216974.0</td>\n",
       "    </tr>\n",
       "    <tr>\n",
       "      <th>1</th>\n",
       "      <td>NaN</td>\n",
       "      <td>216.0</td>\n",
       "      <td>no</td>\n",
       "      <td>83.0</td>\n",
       "      <td>3188.0</td>\n",
       "      <td>49387.0</td>\n",
       "    </tr>\n",
       "    <tr>\n",
       "      <th>2</th>\n",
       "      <td>NaN</td>\n",
       "      <td>6362.0</td>\n",
       "      <td>no</td>\n",
       "      <td>89.0</td>\n",
       "      <td>2747.0</td>\n",
       "      <td>121336.0</td>\n",
       "    </tr>\n",
       "    <tr>\n",
       "      <th>3</th>\n",
       "      <td>NaN</td>\n",
       "      <td>229.0</td>\n",
       "      <td>no</td>\n",
       "      <td>85.0</td>\n",
       "      <td>1915.0</td>\n",
       "      <td>152559.0</td>\n",
       "    </tr>\n",
       "    <tr>\n",
       "      <th>4</th>\n",
       "      <td>363.0</td>\n",
       "      <td>NaN</td>\n",
       "      <td>yes</td>\n",
       "      <td>87.0</td>\n",
       "      <td>1248.0</td>\n",
       "      <td>35943.0</td>\n",
       "    </tr>\n",
       "    <tr>\n",
       "      <th>5</th>\n",
       "      <td>NaN</td>\n",
       "      <td>1188.0</td>\n",
       "      <td>no</td>\n",
       "      <td>96.0</td>\n",
       "      <td>6926.0</td>\n",
       "      <td>216974.0</td>\n",
       "    </tr>\n",
       "    <tr>\n",
       "      <th>6</th>\n",
       "      <td>NaN</td>\n",
       "      <td>212.0</td>\n",
       "      <td>no</td>\n",
       "      <td>93.0</td>\n",
       "      <td>2021.0</td>\n",
       "      <td>323429.0</td>\n",
       "    </tr>\n",
       "    <tr>\n",
       "      <th>7</th>\n",
       "      <td>NaN</td>\n",
       "      <td>211.0</td>\n",
       "      <td>no</td>\n",
       "      <td>100.0</td>\n",
       "      <td>733.0</td>\n",
       "      <td>55747.0</td>\n",
       "    </tr>\n",
       "    <tr>\n",
       "      <th>8</th>\n",
       "      <td>NaN</td>\n",
       "      <td>401.0</td>\n",
       "      <td>no</td>\n",
       "      <td>93.0</td>\n",
       "      <td>3188.0</td>\n",
       "      <td>49387.0</td>\n",
       "    </tr>\n",
       "    <tr>\n",
       "      <th>9</th>\n",
       "      <td>NaN</td>\n",
       "      <td>209.0</td>\n",
       "      <td>no</td>\n",
       "      <td>94.0</td>\n",
       "      <td>2236.0</td>\n",
       "      <td>92317.0</td>\n",
       "    </tr>\n",
       "    <tr>\n",
       "      <th>10</th>\n",
       "      <td>NaN</td>\n",
       "      <td>1951.0</td>\n",
       "      <td>no</td>\n",
       "      <td>98.0</td>\n",
       "      <td>1487.0</td>\n",
       "      <td>56079.0</td>\n",
       "    </tr>\n",
       "    <tr>\n",
       "      <th>11</th>\n",
       "      <td>NaN</td>\n",
       "      <td>2668.0</td>\n",
       "      <td>no</td>\n",
       "      <td>93.0</td>\n",
       "      <td>1693.0</td>\n",
       "      <td>206447.0</td>\n",
       "    </tr>\n",
       "    <tr>\n",
       "      <th>12</th>\n",
       "      <td>NaN</td>\n",
       "      <td>4328.0</td>\n",
       "      <td>no</td>\n",
       "      <td>98.0</td>\n",
       "      <td>2236.0</td>\n",
       "      <td>92317.0</td>\n",
       "    </tr>\n",
       "    <tr>\n",
       "      <th>13</th>\n",
       "      <td>NaN</td>\n",
       "      <td>3318.0</td>\n",
       "      <td>no</td>\n",
       "      <td>83.0</td>\n",
       "      <td>3495.0</td>\n",
       "      <td>84738.0</td>\n",
       "    </tr>\n",
       "    <tr>\n",
       "      <th>14</th>\n",
       "      <td>NaN</td>\n",
       "      <td>1492.0</td>\n",
       "      <td>no</td>\n",
       "      <td>91.0</td>\n",
       "      <td>2193.0</td>\n",
       "      <td>93650.0</td>\n",
       "    </tr>\n",
       "    <tr>\n",
       "      <th>15</th>\n",
       "      <td>NaN</td>\n",
       "      <td>204.0</td>\n",
       "      <td>no</td>\n",
       "      <td>88.0</td>\n",
       "      <td>3188.0</td>\n",
       "      <td>49387.0</td>\n",
       "    </tr>\n",
       "    <tr>\n",
       "      <th>16</th>\n",
       "      <td>NaN</td>\n",
       "      <td>204.0</td>\n",
       "      <td>no</td>\n",
       "      <td>94.0</td>\n",
       "      <td>1725.0</td>\n",
       "      <td>94019.0</td>\n",
       "    </tr>\n",
       "    <tr>\n",
       "      <th>17</th>\n",
       "      <td>NaN</td>\n",
       "      <td>211.0</td>\n",
       "      <td>no</td>\n",
       "      <td>84.0</td>\n",
       "      <td>3149.0</td>\n",
       "      <td>86597.0</td>\n",
       "    </tr>\n",
       "    <tr>\n",
       "      <th>18</th>\n",
       "      <td>NaN</td>\n",
       "      <td>202.0</td>\n",
       "      <td>no</td>\n",
       "      <td>87.0</td>\n",
       "      <td>3357.0</td>\n",
       "      <td>217786.0</td>\n",
       "    </tr>\n",
       "    <tr>\n",
       "      <th>19</th>\n",
       "      <td>NaN</td>\n",
       "      <td>211.0</td>\n",
       "      <td>no</td>\n",
       "      <td>96.0</td>\n",
       "      <td>2501.0</td>\n",
       "      <td>131306.0</td>\n",
       "    </tr>\n",
       "  </tbody>\n",
       "</table>\n",
       "</div>"
      ],
      "text/plain": [
       "    Lifespan  age_if_opened isClosed     MA  HC01_VC05  HC01_VC113\n",
       "0        NaN          216.0       no  100.0     6926.0    216974.0\n",
       "1        NaN          216.0       no   83.0     3188.0     49387.0\n",
       "2        NaN         6362.0       no   89.0     2747.0    121336.0\n",
       "3        NaN          229.0       no   85.0     1915.0    152559.0\n",
       "4      363.0            NaN      yes   87.0     1248.0     35943.0\n",
       "5        NaN         1188.0       no   96.0     6926.0    216974.0\n",
       "6        NaN          212.0       no   93.0     2021.0    323429.0\n",
       "7        NaN          211.0       no  100.0      733.0     55747.0\n",
       "8        NaN          401.0       no   93.0     3188.0     49387.0\n",
       "9        NaN          209.0       no   94.0     2236.0     92317.0\n",
       "10       NaN         1951.0       no   98.0     1487.0     56079.0\n",
       "11       NaN         2668.0       no   93.0     1693.0    206447.0\n",
       "12       NaN         4328.0       no   98.0     2236.0     92317.0\n",
       "13       NaN         3318.0       no   83.0     3495.0     84738.0\n",
       "14       NaN         1492.0       no   91.0     2193.0     93650.0\n",
       "15       NaN          204.0       no   88.0     3188.0     49387.0\n",
       "16       NaN          204.0       no   94.0     1725.0     94019.0\n",
       "17       NaN          211.0       no   84.0     3149.0     86597.0\n",
       "18       NaN          202.0       no   87.0     3357.0    217786.0\n",
       "19       NaN          211.0       no   96.0     2501.0    131306.0"
      ]
     },
     "execution_count": 145,
     "metadata": {},
     "output_type": "execute_result"
    }
   ],
   "source": [
    "df = df[['Lifespan', 'age_if_opened', 'isClosed', 'MA', 'HC01_VC05', 'HC01_VC113']]\n",
    "df.head(20)"
   ]
  },
  {
   "cell_type": "code",
   "execution_count": 146,
   "metadata": {},
   "outputs": [
    {
     "data": {
      "text/html": [
       "<div>\n",
       "<style scoped>\n",
       "    .dataframe tbody tr th:only-of-type {\n",
       "        vertical-align: middle;\n",
       "    }\n",
       "\n",
       "    .dataframe tbody tr th {\n",
       "        vertical-align: top;\n",
       "    }\n",
       "\n",
       "    .dataframe thead th {\n",
       "        text-align: right;\n",
       "    }\n",
       "</style>\n",
       "<table border=\"1\" class=\"dataframe\">\n",
       "  <thead>\n",
       "    <tr style=\"text-align: right;\">\n",
       "      <th></th>\n",
       "      <th>Lifespan</th>\n",
       "      <th>age_if_opened</th>\n",
       "      <th>MA</th>\n",
       "      <th>HC01_VC05</th>\n",
       "      <th>HC01_VC113</th>\n",
       "      <th>isClosed_no</th>\n",
       "      <th>isClosed_yes</th>\n",
       "    </tr>\n",
       "  </thead>\n",
       "  <tbody>\n",
       "    <tr>\n",
       "      <th>0</th>\n",
       "      <td>NaN</td>\n",
       "      <td>216.0</td>\n",
       "      <td>100.0</td>\n",
       "      <td>6926.0</td>\n",
       "      <td>216974.0</td>\n",
       "      <td>1</td>\n",
       "      <td>0</td>\n",
       "    </tr>\n",
       "    <tr>\n",
       "      <th>1</th>\n",
       "      <td>NaN</td>\n",
       "      <td>216.0</td>\n",
       "      <td>83.0</td>\n",
       "      <td>3188.0</td>\n",
       "      <td>49387.0</td>\n",
       "      <td>1</td>\n",
       "      <td>0</td>\n",
       "    </tr>\n",
       "    <tr>\n",
       "      <th>2</th>\n",
       "      <td>NaN</td>\n",
       "      <td>6362.0</td>\n",
       "      <td>89.0</td>\n",
       "      <td>2747.0</td>\n",
       "      <td>121336.0</td>\n",
       "      <td>1</td>\n",
       "      <td>0</td>\n",
       "    </tr>\n",
       "    <tr>\n",
       "      <th>3</th>\n",
       "      <td>NaN</td>\n",
       "      <td>229.0</td>\n",
       "      <td>85.0</td>\n",
       "      <td>1915.0</td>\n",
       "      <td>152559.0</td>\n",
       "      <td>1</td>\n",
       "      <td>0</td>\n",
       "    </tr>\n",
       "    <tr>\n",
       "      <th>4</th>\n",
       "      <td>363.0</td>\n",
       "      <td>NaN</td>\n",
       "      <td>87.0</td>\n",
       "      <td>1248.0</td>\n",
       "      <td>35943.0</td>\n",
       "      <td>0</td>\n",
       "      <td>1</td>\n",
       "    </tr>\n",
       "    <tr>\n",
       "      <th>5</th>\n",
       "      <td>NaN</td>\n",
       "      <td>1188.0</td>\n",
       "      <td>96.0</td>\n",
       "      <td>6926.0</td>\n",
       "      <td>216974.0</td>\n",
       "      <td>1</td>\n",
       "      <td>0</td>\n",
       "    </tr>\n",
       "    <tr>\n",
       "      <th>6</th>\n",
       "      <td>NaN</td>\n",
       "      <td>212.0</td>\n",
       "      <td>93.0</td>\n",
       "      <td>2021.0</td>\n",
       "      <td>323429.0</td>\n",
       "      <td>1</td>\n",
       "      <td>0</td>\n",
       "    </tr>\n",
       "    <tr>\n",
       "      <th>7</th>\n",
       "      <td>NaN</td>\n",
       "      <td>211.0</td>\n",
       "      <td>100.0</td>\n",
       "      <td>733.0</td>\n",
       "      <td>55747.0</td>\n",
       "      <td>1</td>\n",
       "      <td>0</td>\n",
       "    </tr>\n",
       "    <tr>\n",
       "      <th>8</th>\n",
       "      <td>NaN</td>\n",
       "      <td>401.0</td>\n",
       "      <td>93.0</td>\n",
       "      <td>3188.0</td>\n",
       "      <td>49387.0</td>\n",
       "      <td>1</td>\n",
       "      <td>0</td>\n",
       "    </tr>\n",
       "    <tr>\n",
       "      <th>9</th>\n",
       "      <td>NaN</td>\n",
       "      <td>209.0</td>\n",
       "      <td>94.0</td>\n",
       "      <td>2236.0</td>\n",
       "      <td>92317.0</td>\n",
       "      <td>1</td>\n",
       "      <td>0</td>\n",
       "    </tr>\n",
       "    <tr>\n",
       "      <th>10</th>\n",
       "      <td>NaN</td>\n",
       "      <td>1951.0</td>\n",
       "      <td>98.0</td>\n",
       "      <td>1487.0</td>\n",
       "      <td>56079.0</td>\n",
       "      <td>1</td>\n",
       "      <td>0</td>\n",
       "    </tr>\n",
       "    <tr>\n",
       "      <th>11</th>\n",
       "      <td>NaN</td>\n",
       "      <td>2668.0</td>\n",
       "      <td>93.0</td>\n",
       "      <td>1693.0</td>\n",
       "      <td>206447.0</td>\n",
       "      <td>1</td>\n",
       "      <td>0</td>\n",
       "    </tr>\n",
       "    <tr>\n",
       "      <th>12</th>\n",
       "      <td>NaN</td>\n",
       "      <td>4328.0</td>\n",
       "      <td>98.0</td>\n",
       "      <td>2236.0</td>\n",
       "      <td>92317.0</td>\n",
       "      <td>1</td>\n",
       "      <td>0</td>\n",
       "    </tr>\n",
       "    <tr>\n",
       "      <th>13</th>\n",
       "      <td>NaN</td>\n",
       "      <td>3318.0</td>\n",
       "      <td>83.0</td>\n",
       "      <td>3495.0</td>\n",
       "      <td>84738.0</td>\n",
       "      <td>1</td>\n",
       "      <td>0</td>\n",
       "    </tr>\n",
       "    <tr>\n",
       "      <th>14</th>\n",
       "      <td>NaN</td>\n",
       "      <td>1492.0</td>\n",
       "      <td>91.0</td>\n",
       "      <td>2193.0</td>\n",
       "      <td>93650.0</td>\n",
       "      <td>1</td>\n",
       "      <td>0</td>\n",
       "    </tr>\n",
       "    <tr>\n",
       "      <th>15</th>\n",
       "      <td>NaN</td>\n",
       "      <td>204.0</td>\n",
       "      <td>88.0</td>\n",
       "      <td>3188.0</td>\n",
       "      <td>49387.0</td>\n",
       "      <td>1</td>\n",
       "      <td>0</td>\n",
       "    </tr>\n",
       "    <tr>\n",
       "      <th>16</th>\n",
       "      <td>NaN</td>\n",
       "      <td>204.0</td>\n",
       "      <td>94.0</td>\n",
       "      <td>1725.0</td>\n",
       "      <td>94019.0</td>\n",
       "      <td>1</td>\n",
       "      <td>0</td>\n",
       "    </tr>\n",
       "    <tr>\n",
       "      <th>17</th>\n",
       "      <td>NaN</td>\n",
       "      <td>211.0</td>\n",
       "      <td>84.0</td>\n",
       "      <td>3149.0</td>\n",
       "      <td>86597.0</td>\n",
       "      <td>1</td>\n",
       "      <td>0</td>\n",
       "    </tr>\n",
       "    <tr>\n",
       "      <th>18</th>\n",
       "      <td>NaN</td>\n",
       "      <td>202.0</td>\n",
       "      <td>87.0</td>\n",
       "      <td>3357.0</td>\n",
       "      <td>217786.0</td>\n",
       "      <td>1</td>\n",
       "      <td>0</td>\n",
       "    </tr>\n",
       "    <tr>\n",
       "      <th>19</th>\n",
       "      <td>NaN</td>\n",
       "      <td>211.0</td>\n",
       "      <td>96.0</td>\n",
       "      <td>2501.0</td>\n",
       "      <td>131306.0</td>\n",
       "      <td>1</td>\n",
       "      <td>0</td>\n",
       "    </tr>\n",
       "  </tbody>\n",
       "</table>\n",
       "</div>"
      ],
      "text/plain": [
       "    Lifespan  age_if_opened     MA  HC01_VC05  HC01_VC113  isClosed_no  \\\n",
       "0        NaN          216.0  100.0     6926.0    216974.0            1   \n",
       "1        NaN          216.0   83.0     3188.0     49387.0            1   \n",
       "2        NaN         6362.0   89.0     2747.0    121336.0            1   \n",
       "3        NaN          229.0   85.0     1915.0    152559.0            1   \n",
       "4      363.0            NaN   87.0     1248.0     35943.0            0   \n",
       "5        NaN         1188.0   96.0     6926.0    216974.0            1   \n",
       "6        NaN          212.0   93.0     2021.0    323429.0            1   \n",
       "7        NaN          211.0  100.0      733.0     55747.0            1   \n",
       "8        NaN          401.0   93.0     3188.0     49387.0            1   \n",
       "9        NaN          209.0   94.0     2236.0     92317.0            1   \n",
       "10       NaN         1951.0   98.0     1487.0     56079.0            1   \n",
       "11       NaN         2668.0   93.0     1693.0    206447.0            1   \n",
       "12       NaN         4328.0   98.0     2236.0     92317.0            1   \n",
       "13       NaN         3318.0   83.0     3495.0     84738.0            1   \n",
       "14       NaN         1492.0   91.0     2193.0     93650.0            1   \n",
       "15       NaN          204.0   88.0     3188.0     49387.0            1   \n",
       "16       NaN          204.0   94.0     1725.0     94019.0            1   \n",
       "17       NaN          211.0   84.0     3149.0     86597.0            1   \n",
       "18       NaN          202.0   87.0     3357.0    217786.0            1   \n",
       "19       NaN          211.0   96.0     2501.0    131306.0            1   \n",
       "\n",
       "    isClosed_yes  \n",
       "0              0  \n",
       "1              0  \n",
       "2              0  \n",
       "3              0  \n",
       "4              1  \n",
       "5              0  \n",
       "6              0  \n",
       "7              0  \n",
       "8              0  \n",
       "9              0  \n",
       "10             0  \n",
       "11             0  \n",
       "12             0  \n",
       "13             0  \n",
       "14             0  \n",
       "15             0  \n",
       "16             0  \n",
       "17             0  \n",
       "18             0  \n",
       "19             0  "
      ]
     },
     "execution_count": 146,
     "metadata": {},
     "output_type": "execute_result"
    }
   ],
   "source": [
    "closed = pd.get_dummies(df)\n",
    "closed.head(20)"
   ]
  },
  {
   "cell_type": "code",
   "execution_count": 147,
   "metadata": {
    "collapsed": true
   },
   "outputs": [],
   "source": [
    "# Combine lifespan and age_if_opened into 1 column\n",
    "closed['Age'] = closed['Lifespan'].fillna(df['age_if_opened'])"
   ]
  },
  {
   "cell_type": "code",
   "execution_count": 148,
   "metadata": {
    "collapsed": true
   },
   "outputs": [],
   "source": [
    "#Drop the age_if_opened and Lifespan column\n",
    "closed = closed.drop(columns=['age_if_opened', 'Lifespan'])"
   ]
  },
  {
   "cell_type": "code",
   "execution_count": 149,
   "metadata": {},
   "outputs": [
    {
     "data": {
      "text/html": [
       "<div>\n",
       "<style scoped>\n",
       "    .dataframe tbody tr th:only-of-type {\n",
       "        vertical-align: middle;\n",
       "    }\n",
       "\n",
       "    .dataframe tbody tr th {\n",
       "        vertical-align: top;\n",
       "    }\n",
       "\n",
       "    .dataframe thead th {\n",
       "        text-align: right;\n",
       "    }\n",
       "</style>\n",
       "<table border=\"1\" class=\"dataframe\">\n",
       "  <thead>\n",
       "    <tr style=\"text-align: right;\">\n",
       "      <th></th>\n",
       "      <th>MA</th>\n",
       "      <th>HC01_VC05</th>\n",
       "      <th>HC01_VC113</th>\n",
       "      <th>isClosed_no</th>\n",
       "      <th>isClosed_yes</th>\n",
       "      <th>Age</th>\n",
       "    </tr>\n",
       "  </thead>\n",
       "  <tbody>\n",
       "    <tr>\n",
       "      <th>0</th>\n",
       "      <td>100.0</td>\n",
       "      <td>6926.0</td>\n",
       "      <td>216974.0</td>\n",
       "      <td>1</td>\n",
       "      <td>0</td>\n",
       "      <td>216.0</td>\n",
       "    </tr>\n",
       "    <tr>\n",
       "      <th>1</th>\n",
       "      <td>83.0</td>\n",
       "      <td>3188.0</td>\n",
       "      <td>49387.0</td>\n",
       "      <td>1</td>\n",
       "      <td>0</td>\n",
       "      <td>216.0</td>\n",
       "    </tr>\n",
       "    <tr>\n",
       "      <th>2</th>\n",
       "      <td>89.0</td>\n",
       "      <td>2747.0</td>\n",
       "      <td>121336.0</td>\n",
       "      <td>1</td>\n",
       "      <td>0</td>\n",
       "      <td>6362.0</td>\n",
       "    </tr>\n",
       "    <tr>\n",
       "      <th>3</th>\n",
       "      <td>85.0</td>\n",
       "      <td>1915.0</td>\n",
       "      <td>152559.0</td>\n",
       "      <td>1</td>\n",
       "      <td>0</td>\n",
       "      <td>229.0</td>\n",
       "    </tr>\n",
       "    <tr>\n",
       "      <th>4</th>\n",
       "      <td>87.0</td>\n",
       "      <td>1248.0</td>\n",
       "      <td>35943.0</td>\n",
       "      <td>0</td>\n",
       "      <td>1</td>\n",
       "      <td>363.0</td>\n",
       "    </tr>\n",
       "    <tr>\n",
       "      <th>5</th>\n",
       "      <td>96.0</td>\n",
       "      <td>6926.0</td>\n",
       "      <td>216974.0</td>\n",
       "      <td>1</td>\n",
       "      <td>0</td>\n",
       "      <td>1188.0</td>\n",
       "    </tr>\n",
       "    <tr>\n",
       "      <th>6</th>\n",
       "      <td>93.0</td>\n",
       "      <td>2021.0</td>\n",
       "      <td>323429.0</td>\n",
       "      <td>1</td>\n",
       "      <td>0</td>\n",
       "      <td>212.0</td>\n",
       "    </tr>\n",
       "    <tr>\n",
       "      <th>7</th>\n",
       "      <td>100.0</td>\n",
       "      <td>733.0</td>\n",
       "      <td>55747.0</td>\n",
       "      <td>1</td>\n",
       "      <td>0</td>\n",
       "      <td>211.0</td>\n",
       "    </tr>\n",
       "    <tr>\n",
       "      <th>8</th>\n",
       "      <td>93.0</td>\n",
       "      <td>3188.0</td>\n",
       "      <td>49387.0</td>\n",
       "      <td>1</td>\n",
       "      <td>0</td>\n",
       "      <td>401.0</td>\n",
       "    </tr>\n",
       "    <tr>\n",
       "      <th>9</th>\n",
       "      <td>94.0</td>\n",
       "      <td>2236.0</td>\n",
       "      <td>92317.0</td>\n",
       "      <td>1</td>\n",
       "      <td>0</td>\n",
       "      <td>209.0</td>\n",
       "    </tr>\n",
       "  </tbody>\n",
       "</table>\n",
       "</div>"
      ],
      "text/plain": [
       "      MA  HC01_VC05  HC01_VC113  isClosed_no  isClosed_yes     Age\n",
       "0  100.0     6926.0    216974.0            1             0   216.0\n",
       "1   83.0     3188.0     49387.0            1             0   216.0\n",
       "2   89.0     2747.0    121336.0            1             0  6362.0\n",
       "3   85.0     1915.0    152559.0            1             0   229.0\n",
       "4   87.0     1248.0     35943.0            0             1   363.0\n",
       "5   96.0     6926.0    216974.0            1             0  1188.0\n",
       "6   93.0     2021.0    323429.0            1             0   212.0\n",
       "7  100.0      733.0     55747.0            1             0   211.0\n",
       "8   93.0     3188.0     49387.0            1             0   401.0\n",
       "9   94.0     2236.0     92317.0            1             0   209.0"
      ]
     },
     "execution_count": 149,
     "metadata": {},
     "output_type": "execute_result"
    }
   ],
   "source": [
    "closed.head(10)"
   ]
  },
  {
   "cell_type": "code",
   "execution_count": 150,
   "metadata": {},
   "outputs": [
    {
     "name": "stdout",
     "output_type": "stream",
     "text": [
      "(2894, 5) (2894, 1)\n"
     ]
    }
   ],
   "source": [
    "### BEGIN SOLUTION\n",
    "X = closed[['MA', 'HC01_VC05', 'HC01_VC113', 'isClosed_no', 'isClosed_yes']]\n",
    "y = closed[\"Age\"].values.reshape(-1, 1)\n",
    "print(X.shape, y.shape)\n",
    "### END SOLUTION"
   ]
  },
  {
   "cell_type": "code",
   "execution_count": 151,
   "metadata": {},
   "outputs": [],
   "source": [
    "# Split the data into training and testing\n",
    "\n",
    "### BEGIN SOLUTION\n",
    "from sklearn.model_selection import train_test_split\n",
    "\n",
    "X_train, X_test, y_train, y_test = train_test_split(X, y)\n",
    "### END SOLUTION"
   ]
  },
  {
   "cell_type": "code",
   "execution_count": 152,
   "metadata": {
    "collapsed": true
   },
   "outputs": [],
   "source": [
    "from sklearn.preprocessing import StandardScaler\n",
    "\n",
    "# Create a StandardScater model and fit it to the training data\n",
    "\n",
    "### BEGIN SOLUTION\n",
    "X_scaler = StandardScaler().fit(X_train)\n",
    "y_scaler = StandardScaler().fit(y_train)\n",
    "### END SOLUTION"
   ]
  },
  {
   "cell_type": "code",
   "execution_count": 153,
   "metadata": {
    "collapsed": true
   },
   "outputs": [],
   "source": [
    "# Transform the training and testing data using the X_scaler and y_scaler models\n",
    "\n",
    "### BEGIN SOLUTION\n",
    "X_train_scaled = X_scaler.transform(X_train)\n",
    "X_test_scaled = X_scaler.transform(X_test)\n",
    "y_train_scaled = y_scaler.transform(y_train)\n",
    "y_test_scaled = y_scaler.transform(y_test)\n",
    "### END SOLUTION"
   ]
  },
  {
   "cell_type": "code",
   "execution_count": 154,
   "metadata": {},
   "outputs": [
    {
     "data": {
      "text/plain": [
       "LinearRegression(copy_X=True, fit_intercept=True, n_jobs=1, normalize=False)"
      ]
     },
     "execution_count": 154,
     "metadata": {},
     "output_type": "execute_result"
    }
   ],
   "source": [
    "# Create a LinearRegression model and fit it to the scaled training data\n",
    "\n",
    "### BEGIN SOLUTION\n",
    "from sklearn.linear_model import LinearRegression\n",
    "model = LinearRegression()\n",
    "model.fit(X_train_scaled, y_train_scaled)\n",
    "### END SOLUTION"
   ]
  },
  {
   "cell_type": "code",
   "execution_count": 155,
   "metadata": {},
   "outputs": [
    {
     "data": {
      "image/png": "[encoded data removed]",
      "text/plain": [
       "<Figure size 432x288 with 1 Axes>"
      ]
     },
     "metadata": {},
     "output_type": "display_data"
    }
   ],
   "source": [
    "import matplotlib.pyplot as plt\n",
    "\n",
    "# Make predictions using the X_test_scaled data\n",
    "# Plot y_test_scaled vs y_test_scaled\n",
    "# Scatter plot y_test_scaled vs predictions\n",
    "\n",
    "### BEGIN SOLUTION\n",
    "predictions = model.predict(X_test_scaled)\n",
    "model.fit(X_train_scaled, y_train_scaled)\n",
    "plt.scatter(model.predict(X_train_scaled), model.predict(X_train_scaled) - y_train_scaled, c=\"blue\", label=\"Training Data\")\n",
    "plt.scatter(model.predict(X_test_scaled), model.predict(X_test_scaled) - y_test_scaled, c=\"orange\", label=\"Testing Data\")\n",
    "plt.legend()\n",
    "plt.hlines(y=0, xmin=y_test_scaled.min(), xmax=y_test_scaled.max())\n",
    "plt.title(\"Residual Plot\")\n",
    "plt.show()\n",
    "### END SOLUTION"
   ]
  },
  {
   "cell_type": "code",
   "execution_count": 156,
   "metadata": {},
   "outputs": [
    {
     "name": "stdout",
     "output_type": "stream",
     "text": [
      "MSE: 1.0325177982523108, R2: 0.005184684015424934\n"
     ]
    }
   ],
   "source": [
    "# Used X_test_scaled, y_test_scaled, and model.predict(X_test_scaled) to calculate MSE and R2\n",
    "\n",
    "### BEGIN SOLUTION\n",
    "from sklearn.metrics import mean_squared_error\n",
    "\n",
    "MSE = mean_squared_error(y_test_scaled, predictions)\n",
    "r2 = model.score(X_test_scaled, y_test_scaled)\n",
    "### END SOLUTION\n",
    "\n",
    "print(f\"MSE: {MSE}, R2: {r2}\")"
   ]
  },
  {
   "cell_type": "code",
   "execution_count": null,
   "metadata": {
    "collapsed": true
   },
   "outputs": [],
   "source": []
  },
  {
   "cell_type": "markdown",
   "metadata": {},
   "source": [
    "# Linear regression (X) - MA , (Y) - Age"
   ]
  },
  {
   "cell_type": "code",
   "execution_count": 160,
   "metadata": {},
   "outputs": [
    {
     "data": {
      "text/html": [
       "<div>\n",
       "<style scoped>\n",
       "    .dataframe tbody tr th:only-of-type {\n",
       "        vertical-align: middle;\n",
       "    }\n",
       "\n",
       "    .dataframe tbody tr th {\n",
       "        vertical-align: top;\n",
       "    }\n",
       "\n",
       "    .dataframe thead th {\n",
       "        text-align: right;\n",
       "    }\n",
       "</style>\n",
       "<table border=\"1\" class=\"dataframe\">\n",
       "  <thead>\n",
       "    <tr style=\"text-align: right;\">\n",
       "      <th></th>\n",
       "      <th>MA</th>\n",
       "      <th>HC01_VC05</th>\n",
       "      <th>HC01_VC113</th>\n",
       "      <th>isClosed_no</th>\n",
       "      <th>isClosed_yes</th>\n",
       "      <th>Age</th>\n",
       "    </tr>\n",
       "  </thead>\n",
       "  <tbody>\n",
       "    <tr>\n",
       "      <th>0</th>\n",
       "      <td>100.0</td>\n",
       "      <td>6926.0</td>\n",
       "      <td>216974.0</td>\n",
       "      <td>1</td>\n",
       "      <td>0</td>\n",
       "      <td>216.0</td>\n",
       "    </tr>\n",
       "    <tr>\n",
       "      <th>1</th>\n",
       "      <td>83.0</td>\n",
       "      <td>3188.0</td>\n",
       "      <td>49387.0</td>\n",
       "      <td>1</td>\n",
       "      <td>0</td>\n",
       "      <td>216.0</td>\n",
       "    </tr>\n",
       "    <tr>\n",
       "      <th>2</th>\n",
       "      <td>89.0</td>\n",
       "      <td>2747.0</td>\n",
       "      <td>121336.0</td>\n",
       "      <td>1</td>\n",
       "      <td>0</td>\n",
       "      <td>6362.0</td>\n",
       "    </tr>\n",
       "    <tr>\n",
       "      <th>3</th>\n",
       "      <td>85.0</td>\n",
       "      <td>1915.0</td>\n",
       "      <td>152559.0</td>\n",
       "      <td>1</td>\n",
       "      <td>0</td>\n",
       "      <td>229.0</td>\n",
       "    </tr>\n",
       "    <tr>\n",
       "      <th>4</th>\n",
       "      <td>87.0</td>\n",
       "      <td>1248.0</td>\n",
       "      <td>35943.0</td>\n",
       "      <td>0</td>\n",
       "      <td>1</td>\n",
       "      <td>363.0</td>\n",
       "    </tr>\n",
       "  </tbody>\n",
       "</table>\n",
       "</div>"
      ],
      "text/plain": [
       "      MA  HC01_VC05  HC01_VC113  isClosed_no  isClosed_yes     Age\n",
       "0  100.0     6926.0    216974.0            1             0   216.0\n",
       "1   83.0     3188.0     49387.0            1             0   216.0\n",
       "2   89.0     2747.0    121336.0            1             0  6362.0\n",
       "3   85.0     1915.0    152559.0            1             0   229.0\n",
       "4   87.0     1248.0     35943.0            0             1   363.0"
      ]
     },
     "execution_count": 160,
     "metadata": {},
     "output_type": "execute_result"
    }
   ],
   "source": [
    "closed.head()"
   ]
  },
  {
   "cell_type": "code",
   "execution_count": 158,
   "metadata": {},
   "outputs": [
    {
     "name": "stdout",
     "output_type": "stream",
     "text": [
      "Shape:  (2894, 1) (2894, 1)\n"
     ]
    },
    {
     "data": {
      "text/plain": [
       "array([[100. ],\n",
       "       [ 83. ],\n",
       "       [ 89. ],\n",
       "       ...,\n",
       "       [ 80. ],\n",
       "       [ 69.5],\n",
       "       [ 85. ]])"
      ]
     },
     "execution_count": 158,
     "metadata": {},
     "output_type": "execute_result"
    }
   ],
   "source": [
    "\n",
    "\n",
    "X = closed.MA.values.reshape(-1, 1)\n",
    "y = closed.Age.values.reshape(-1, 1)\n",
    "\n",
    "print(\"Shape: \", X.shape, y.shape)\n",
    "X"
   ]
  },
  {
   "cell_type": "code",
   "execution_count": 168,
   "metadata": {},
   "outputs": [
    {
     "data": {
      "text/plain": [
       "Text(0,0.5,'Age')"
      ]
     },
     "execution_count": 168,
     "metadata": {},
     "output_type": "execute_result"
    },
    {
     "data": {
      "image/png": "[encoded data removed]",
      "text/plain": [
       "<Figure size 432x288 with 1 Axes>"
      ]
     },
     "metadata": {},
     "output_type": "display_data"
    }
   ],
   "source": [
    "# Plot the data to see if a linear trend exists\n",
    "\n",
    "### BEGIN SOLUTION\n",
    "plt.scatter(X, y)\n",
    "plt.xlabel(\"MA\")\n",
    "plt.ylabel(\"Age\")\n",
    "### END SOLUTION"
   ]
  },
  {
   "cell_type": "code",
   "execution_count": 177,
   "metadata": {
    "collapsed": true
   },
   "outputs": [],
   "source": [
    "# Use sklearn's `train_test_split` to split the data into training and testing\n",
    "\n",
    "from sklearn.model_selection import train_test_split\n",
    "\n",
    "### BEGIN SOLUTION\n",
    "\n",
    "X_train, X_test, y_train, y_test = train_test_split(X, y)\n",
    "\n",
    "### END SOLUTION"
   ]
  },
  {
   "cell_type": "code",
   "execution_count": 178,
   "metadata": {},
   "outputs": [],
   "source": [
    "# Create the model\n",
    "\n",
    "### BEGIN SOLUTION\n",
    "\n",
    "from sklearn.linear_model import LinearRegression\n",
    "\n",
    "model = LinearRegression()\n",
    "\n",
    "### END SOLUTION"
   ]
  },
  {
   "cell_type": "code",
   "execution_count": 179,
   "metadata": {},
   "outputs": [
    {
     "data": {
      "text/plain": [
       "LinearRegression(copy_X=True, fit_intercept=True, n_jobs=1, normalize=False)"
      ]
     },
     "execution_count": 179,
     "metadata": {},
     "output_type": "execute_result"
    }
   ],
   "source": [
    "# Fit the model to the trainig data. \n",
    "\n",
    "### BEGIN SOLUTION\n",
    "\n",
    "model.fit(X_train, y_train)\n",
    "\n",
    "### END SOLUTION"
   ]
  },
  {
   "cell_type": "code",
   "execution_count": 180,
   "metadata": {},
   "outputs": [
    {
     "name": "stdout",
     "output_type": "stream",
     "text": [
      "Mean Squared Error (MSE): 15604522.779690795\n",
      "R-squared (R2 ): -0.005994508122599829\n"
     ]
    }
   ],
   "source": [
    "# Calculate the mean_squared_error and the r-squared value\n",
    "# for the testing data\n",
    "\n",
    "from sklearn.metrics import mean_squared_error, r2_score\n",
    "\n",
    "### BEGIN SOLUTION\n",
    "\n",
    "# Use our model to make predictions\n",
    "predicted = model.predict(X_test)\n",
    "\n",
    "# Score the predictions with mse and r2\n",
    "mse = mean_squared_error(y_test, predicted)\n",
    "r2 = r2_score(y_test, predicted)\n",
    "\n",
    "print(f\"Mean Squared Error (MSE): {mse}\")\n",
    "print(f\"R-squared (R2 ): {r2}\")\n",
    "\n",
    "### END SOLUTION"
   ]
  },
  {
   "cell_type": "code",
   "execution_count": 181,
   "metadata": {},
   "outputs": [
    {
     "data": {
      "text/plain": [
       "-0.0059945081225998295"
      ]
     },
     "execution_count": 181,
     "metadata": {},
     "output_type": "execute_result"
    }
   ],
   "source": [
    "# Call the `score` method on the model to show the r2 score\n",
    "\n",
    "### BEGIN SOLUTION\n",
    "model.score(X_test, y_test)\n",
    "### END SOLUTION"
   ]
  },
  {
   "cell_type": "markdown",
   "metadata": {},
   "source": [
    "# Remove duplicates and then plot"
   ]
  },
  {
   "cell_type": "code",
   "execution_count": 283,
   "metadata": {
    "collapsed": true
   },
   "outputs": [],
   "source": [
    "#Set the paths\n",
    "path = os.path.join('..', 'Hadrien_DataCleanup', 'cleanDatasets', 'master_dataset.csv')\n",
    "\n",
    "#read in csv\n",
    "df = pd.read_csv(path)\n",
    "\n",
    "# Combine lifespan and age_if_opened into 1 column\n",
    "df['Age'] = df['Lifespan'].fillna(df['age_if_opened'])\n",
    "\n",
    "#Drop the age_if_opened and Lifespan column\n",
    "df = df.drop(columns=['age_if_opened', 'Lifespan'])\n",
    "\n",
    "#Drop the duplicates \n",
    "df = df.drop_duplicates(subset=[\"full_address\",\"business_name\"], keep=\"last\")\n",
    "\n",
    "#choose dataframe where age != 0\n",
    "df = df[df.Age != 0]\n",
    "\n",
    "df.to_csv('master_dataset_cleaned.csv', index=False)"
   ]
  },
  {
   "cell_type": "code",
   "execution_count": 284,
   "metadata": {},
   "outputs": [
    {
     "data": {
      "text/html": [
       "<div>\n",
       "<style scoped>\n",
       "    .dataframe tbody tr th:only-of-type {\n",
       "        vertical-align: middle;\n",
       "    }\n",
       "\n",
       "    .dataframe tbody tr th {\n",
       "        vertical-align: top;\n",
       "    }\n",
       "\n",
       "    .dataframe thead th {\n",
       "        text-align: right;\n",
       "    }\n",
       "</style>\n",
       "<table border=\"1\" class=\"dataframe\">\n",
       "  <thead>\n",
       "    <tr style=\"text-align: right;\">\n",
       "      <th></th>\n",
       "      <th>business_name</th>\n",
       "      <th>category</th>\n",
       "      <th>lic_code</th>\n",
       "      <th>street_address</th>\n",
       "      <th>business_start_date</th>\n",
       "      <th>business_end_date</th>\n",
       "      <th>isClosed</th>\n",
       "      <th>full_address</th>\n",
       "      <th>business_id</th>\n",
       "      <th>name</th>\n",
       "      <th>...</th>\n",
       "      <th>HD01_S184</th>\n",
       "      <th>HD02_S026</th>\n",
       "      <th>HD02_S051</th>\n",
       "      <th>HD02_S151</th>\n",
       "      <th>HD02_S170</th>\n",
       "      <th>HD02_S171</th>\n",
       "      <th>HD02_S180</th>\n",
       "      <th>HD02_S181</th>\n",
       "      <th>HD02_S184</th>\n",
       "      <th>Age</th>\n",
       "    </tr>\n",
       "  </thead>\n",
       "  <tbody>\n",
       "    <tr>\n",
       "      <th>222</th>\n",
       "      <td>bluestar refreshment servicesuber technologies...</td>\n",
       "      <td>Food Services</td>\n",
       "      <td>Employee Cafeterias W/food Prep</td>\n",
       "      <td>555 market st. - floors 2 4 &amp; 5 st</td>\n",
       "      <td>10/20/2012</td>\n",
       "      <td>NaN</td>\n",
       "      <td>no</td>\n",
       "      <td>555 market st. - floors 2 4 &amp; 5 st, San Franci...</td>\n",
       "      <td>91078</td>\n",
       "      <td>bluestar refreshment services  uber technologi...</td>\n",
       "      <td>...</td>\n",
       "      <td>4258.0</td>\n",
       "      <td>56.6</td>\n",
       "      <td>43.4</td>\n",
       "      <td>28.6</td>\n",
       "      <td>82.2</td>\n",
       "      <td>17.8</td>\n",
       "      <td>100.0</td>\n",
       "      <td>37.2</td>\n",
       "      <td>62.8</td>\n",
       "      <td>2111.0</td>\n",
       "    </tr>\n",
       "    <tr>\n",
       "      <th>225</th>\n",
       "      <td>bluestar refreshment servicesuber technologies...</td>\n",
       "      <td>Food Services</td>\n",
       "      <td>Employee Cafeterias W/food Prep</td>\n",
       "      <td>685 market st. - floors 7 8 &amp; 9 st</td>\n",
       "      <td>10/20/2012</td>\n",
       "      <td>NaN</td>\n",
       "      <td>no</td>\n",
       "      <td>685 market st. - floors 7 8 &amp; 9 st, San Franci...</td>\n",
       "      <td>91071</td>\n",
       "      <td>bluestar refreshment services  uber technologi...</td>\n",
       "      <td>...</td>\n",
       "      <td>4258.0</td>\n",
       "      <td>56.6</td>\n",
       "      <td>43.4</td>\n",
       "      <td>28.6</td>\n",
       "      <td>82.2</td>\n",
       "      <td>17.8</td>\n",
       "      <td>100.0</td>\n",
       "      <td>37.2</td>\n",
       "      <td>62.8</td>\n",
       "      <td>2111.0</td>\n",
       "    </tr>\n",
       "    <tr>\n",
       "      <th>2694</th>\n",
       "      <td>bluestar refreshment servicesuber technologies...</td>\n",
       "      <td>Food Services</td>\n",
       "      <td>Employee Cafeterias W/food Prep</td>\n",
       "      <td>1455 market st. - floors 11 14 &amp; 15 st</td>\n",
       "      <td>10/20/2012</td>\n",
       "      <td>NaN</td>\n",
       "      <td>no</td>\n",
       "      <td>1455 market st. - floors 11 14 &amp; 15 st, San Fr...</td>\n",
       "      <td>91080</td>\n",
       "      <td>bluestar refreshment services  uber technologi...</td>\n",
       "      <td>...</td>\n",
       "      <td>3914.0</td>\n",
       "      <td>61.9</td>\n",
       "      <td>38.1</td>\n",
       "      <td>23.8</td>\n",
       "      <td>81.6</td>\n",
       "      <td>18.4</td>\n",
       "      <td>100.0</td>\n",
       "      <td>9.4</td>\n",
       "      <td>90.6</td>\n",
       "      <td>2111.0</td>\n",
       "    </tr>\n",
       "  </tbody>\n",
       "</table>\n",
       "<p>3 rows × 106 columns</p>\n",
       "</div>"
      ],
      "text/plain": [
       "                                          business_name       category  \\\n",
       "222   bluestar refreshment servicesuber technologies...  Food Services   \n",
       "225   bluestar refreshment servicesuber technologies...  Food Services   \n",
       "2694  bluestar refreshment servicesuber technologies...  Food Services   \n",
       "\n",
       "                             lic_code                          street_address  \\\n",
       "222   Employee Cafeterias W/food Prep      555 market st. - floors 2 4 & 5 st   \n",
       "225   Employee Cafeterias W/food Prep      685 market st. - floors 7 8 & 9 st   \n",
       "2694  Employee Cafeterias W/food Prep  1455 market st. - floors 11 14 & 15 st   \n",
       "\n",
       "     business_start_date business_end_date isClosed  \\\n",
       "222           10/20/2012               NaN       no   \n",
       "225           10/20/2012               NaN       no   \n",
       "2694          10/20/2012               NaN       no   \n",
       "\n",
       "                                           full_address  business_id  \\\n",
       "222   555 market st. - floors 2 4 & 5 st, San Franci...        91078   \n",
       "225   685 market st. - floors 7 8 & 9 st, San Franci...        91071   \n",
       "2694  1455 market st. - floors 11 14 & 15 st, San Fr...        91080   \n",
       "\n",
       "                                                   name   ...   HD01_S184  \\\n",
       "222   bluestar refreshment services  uber technologi...   ...      4258.0   \n",
       "225   bluestar refreshment services  uber technologi...   ...      4258.0   \n",
       "2694  bluestar refreshment services  uber technologi...   ...      3914.0   \n",
       "\n",
       "      HD02_S026  HD02_S051  HD02_S151  HD02_S170 HD02_S171  HD02_S180  \\\n",
       "222        56.6       43.4       28.6       82.2      17.8      100.0   \n",
       "225        56.6       43.4       28.6       82.2      17.8      100.0   \n",
       "2694       61.9       38.1       23.8       81.6      18.4      100.0   \n",
       "\n",
       "     HD02_S181  HD02_S184     Age  \n",
       "222       37.2       62.8  2111.0  \n",
       "225       37.2       62.8  2111.0  \n",
       "2694       9.4       90.6  2111.0  \n",
       "\n",
       "[3 rows x 106 columns]"
      ]
     },
     "execution_count": 284,
     "metadata": {},
     "output_type": "execute_result"
    }
   ],
   "source": [
    "df[df['business_name'] == 'bluestar refreshment servicesuber technologies inc']"
   ]
  },
  {
   "cell_type": "code",
   "execution_count": 257,
   "metadata": {
    "collapsed": true
   },
   "outputs": [],
   "source": [
    "df = df.drop_duplicates(subset=[\"full_address\",\"business_name\"], keep = \"last\")"
   ]
  },
  {
   "cell_type": "code",
   "execution_count": 258,
   "metadata": {},
   "outputs": [
    {
     "data": {
      "text/plain": [
       "2847"
      ]
     },
     "execution_count": 258,
     "metadata": {},
     "output_type": "execute_result"
    }
   ],
   "source": [
    "len(df)"
   ]
  },
  {
   "cell_type": "code",
   "execution_count": 259,
   "metadata": {},
   "outputs": [],
   "source": [
    "df = df[['Lifespan', 'age_if_opened', 'isClosed', 'MA', 'HC01_VC115']]\n",
    "\n",
    "closed = pd.get_dummies(df)\n",
    "\n",
    "# Combine lifespan and age_if_opened into 1 column\n",
    "closed['Age'] = closed['Lifespan'].fillna(df['age_if_opened'])"
   ]
  },
  {
   "cell_type": "code",
   "execution_count": 260,
   "metadata": {
    "collapsed": true
   },
   "outputs": [],
   "source": [
    "#Drop the age_if_opened and Lifespan column\n",
    "closed = closed.drop(columns=['age_if_opened', 'Lifespan'])"
   ]
  },
  {
   "cell_type": "code",
   "execution_count": 275,
   "metadata": {},
   "outputs": [],
   "source": [
    "#choose dataframe where age != 0\n",
    "closed = closed[closed.Age != 0]"
   ]
  },
  {
   "cell_type": "code",
   "execution_count": 277,
   "metadata": {
    "collapsed": true
   },
   "outputs": [],
   "source": [
    "closed.to_csv('master_dataset_cleaned.csv', index=False)"
   ]
  },
  {
   "cell_type": "code",
   "execution_count": 269,
   "metadata": {},
   "outputs": [
    {
     "name": "stdout",
     "output_type": "stream",
     "text": [
      "Shape:  (2841, 1) (2841, 1)\n"
     ]
    },
    {
     "data": {
      "text/plain": [
       "array([[100. ],\n",
       "       [ 83. ],\n",
       "       [ 89. ],\n",
       "       ...,\n",
       "       [ 80. ],\n",
       "       [ 69.5],\n",
       "       [ 85. ]])"
      ]
     },
     "execution_count": 269,
     "metadata": {},
     "output_type": "execute_result"
    }
   ],
   "source": [
    "\n",
    "\n",
    "X = closed.MA.values.reshape(-1, 1)\n",
    "y = closed.Age.values.reshape(-1, 1)\n",
    "\n",
    "print(\"Shape: \", X.shape, y.shape)\n",
    "X"
   ]
  },
  {
   "cell_type": "code",
   "execution_count": 270,
   "metadata": {},
   "outputs": [
    {
     "data": {
      "text/plain": [
       "Text(0,0.5,'Age')"
      ]
     },
     "execution_count": 270,
     "metadata": {},
     "output_type": "execute_result"
    },
    {
     "data": {
      "image/png": "[encoded data removed]",
      "text/plain": [
       "<Figure size 432x288 with 1 Axes>"
      ]
     },
     "metadata": {},
     "output_type": "display_data"
    }
   ],
   "source": [
    "# Plot the data to see if a linear trend exists\n",
    "\n",
    "### BEGIN SOLUTION\n",
    "plt.scatter(X, y)\n",
    "plt.xlabel(\"MA\")\n",
    "plt.ylabel(\"Age\")\n",
    "### END SOLUTION"
   ]
  },
  {
   "cell_type": "code",
   "execution_count": 271,
   "metadata": {
    "collapsed": true
   },
   "outputs": [],
   "source": [
    "# Use sklearn's `train_test_split` to split the data into training and testing\n",
    "\n",
    "from sklearn.model_selection import train_test_split\n",
    "\n",
    "### BEGIN SOLUTION\n",
    "\n",
    "X_train, X_test, y_train, y_test = train_test_split(X, y)\n",
    "\n",
    "### END SOLUTION"
   ]
  },
  {
   "cell_type": "code",
   "execution_count": 272,
   "metadata": {
    "collapsed": true
   },
   "outputs": [],
   "source": [
    "# Create the model\n",
    "\n",
    "### BEGIN SOLUTION\n",
    "\n",
    "from sklearn.linear_model import LinearRegression\n",
    "\n",
    "model = LinearRegression()\n",
    "\n",
    "### END SOLUTION"
   ]
  },
  {
   "cell_type": "code",
   "execution_count": 273,
   "metadata": {},
   "outputs": [
    {
     "data": {
      "text/plain": [
       "LinearRegression(copy_X=True, fit_intercept=True, n_jobs=1, normalize=False)"
      ]
     },
     "execution_count": 273,
     "metadata": {},
     "output_type": "execute_result"
    }
   ],
   "source": [
    "# Fit the model to the trainig data. \n",
    "\n",
    "### BEGIN SOLUTION\n",
    "\n",
    "model.fit(X_train, y_train)\n",
    "\n",
    "### END SOLUTION"
   ]
  },
  {
   "cell_type": "code",
   "execution_count": 274,
   "metadata": {},
   "outputs": [
    {
     "name": "stdout",
     "output_type": "stream",
     "text": [
      "Mean Squared Error (MSE): 13470083.109994292\n",
      "R-squared (R2 ): -0.0010636246982402842\n"
     ]
    }
   ],
   "source": [
    "# Calculate the mean_squared_error and the r-squared value\n",
    "# for the testing data\n",
    "\n",
    "from sklearn.metrics import mean_squared_error, r2_score\n",
    "\n",
    "### BEGIN SOLUTION\n",
    "\n",
    "# Use our model to make predictions\n",
    "predicted = model.predict(X_test)\n",
    "\n",
    "# Score the predictions with mse and r2\n",
    "mse = mean_squared_error(y_test, predicted)\n",
    "r2 = r2_score(y_test, predicted)\n",
    "\n",
    "print(f\"Mean Squared Error (MSE): {mse}\")\n",
    "print(f\"R-squared (R2 ): {r2}\")\n",
    "\n",
    "### END SOLUTION"
   ]
  },
  {
   "cell_type": "code",
   "execution_count": null,
   "metadata": {
    "collapsed": true
   },
   "outputs": [],
   "source": []
  },
  {
   "cell_type": "code",
   "execution_count": null,
   "metadata": {
    "collapsed": true
   },
   "outputs": [],
   "source": []
  }
 ],
 "metadata": {
  "kernelspec": {
   "display_name": "Python [conda env:PythonData]",
   "language": "python",
   "name": "conda-env-PythonData-py"
  },
  "language_info": {
   "codemirror_mode": {
    "name": "ipython",
    "version": 3
   },
   "file_extension": ".py",
   "mimetype": "text/x-python",
   "name": "python",
   "nbconvert_exporter": "python",
   "pygments_lexer": "ipython3",
   "version": "3.6.4"
  }
 },
 "nbformat": 4,
 "nbformat_minor": 2
}
