{
 "cells": [
  {
   "cell_type": "code",
   "execution_count": 3,
   "metadata": {},
   "outputs": [
    {
     "name": "stdout",
     "output_type": "stream",
     "text": [
      "[{'category_id': 1008, 'category_name': 'Beautiful Scenery', 'value': 1.22}]\n"
     ]
    }
   ],
   "source": [
    "import requests\n",
    "import json\n",
    "import requests\n",
    "from pprint import pprint\n",
    "\n",
    "url = \"https://api.spatial.ai/neighborhood/point/social_score?\"\n",
    "lat = '37.783004'\n",
    "lng = '-122.46253899999999'\n",
    "test = []\n",
    "\n",
    "# ,'37.764040' ,'-122.469029'\n",
    "YOUR_API_KEY = \"49ou2ajaRCKOhL6VqGXpt8caN2YnD9Qk\"\n",
    "query_url = url + \"lat=\" + lat + \"&lng=\" + lng + \"&apikey=\" + YOUR_API_KEY\n",
    "\n",
    "response = requests.get(query_url).json()\n",
    "# pprint(response['social_score']['quarters'])\n",
    "test.append(response['social_score']['quarters'][7]['scores'][7])\n",
    "pprint(test)"
   ]
  },
  {
   "cell_type": "code",
   "execution_count": null,
   "metadata": {},
   "outputs": [],
   "source": []
  }
 ],
 "metadata": {
  "kernelspec": {
   "display_name": "Python 3",
   "language": "python",
   "name": "python3"
  },
  "language_info": {
   "codemirror_mode": {
    "name": "ipython",
    "version": 3
   },
   "file_extension": ".py",
   "mimetype": "text/x-python",
   "name": "python",
   "nbconvert_exporter": "python",
   "pygments_lexer": "ipython3",
   "version": "3.6.5"
  }
 },
 "nbformat": 4,
 "nbformat_minor": 2
}
